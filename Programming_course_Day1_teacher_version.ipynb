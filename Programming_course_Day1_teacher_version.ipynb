{
 "cells": [
  {
   "cell_type": "code",
   "execution_count": 27,
   "metadata": {},
   "outputs": [],
   "source": [
    "######################## Day 1 ##########################\n",
    "\n",
    "#Über den Programmierkurs\n",
    "\n",
    "#ihr werdet euch nicht an jedes Detail erinnern, das ist aber normal. Ihr könnt das Script auch benutzen,\n",
    "#um Dinge nachzuschlagen, aber das wichtige hier ist die Übung und dass ihr Grundwissen habt.\n",
    "#Sucht im Internet, wenn ihr nicht wisst, wie etwas funktioniert, das gehört zum Programmieren dazu.\n",
    "#wichtig ist, dass ihr weiter übt, sonst vergesst ihr vieles wieder schnell.\n",
    "#Es gibt auch noch viel mehr als wir in diesem Kurs behandeln können, wir hoffen ihr macht danach selbstständig weiter.\n",
    "#Programmieren lernt man durch programmieren, nicht durch Tutorials anschauen.\n",
    "#Bla Bla Bla\n",
    "\n",
    "#Die Aufgaben sind das wichtigste, ihr solltet versuchen sie alleine zu machen (oder maximal in zweier Teams, aber schaut, dass dann nicht einer alles alleine macht).\n",
    "#Wenn ihr etwas nicht verstanden habt, meldet euch direkt.\n",
    "#Wenn ihr eine Aufgabe nicht lösen könnt, fragt uns, wir helfen euch, versucht es aber unbedingt erst einmal selbst.\n"
   ]
  },
  {
   "cell_type": "code",
   "execution_count": 28,
   "metadata": {},
   "outputs": [
    {
     "name": "stdout",
     "output_type": "stream",
     "text": [
      "Hallo!\n",
      "Mein Name ist Marvin\n"
     ]
    }
   ],
   "source": [
    "# Einführung\n",
    "## print\n",
    "print(\"Hallo!\")\n",
    "print(\"Mein Name ist Marvin\")"
   ]
  },
  {
   "cell_type": "code",
   "execution_count": 29,
   "metadata": {},
   "outputs": [
    {
     "name": "stdout",
     "output_type": "stream",
     "text": [
      "Hallo Welt\n"
     ]
    }
   ],
   "source": [
    "### Aufgabe\n",
    "#schreibe \"Hallo Welt\" aus\n",
    "print(\"Hallo Welt\")"
   ]
  },
  {
   "cell_type": "code",
   "execution_count": 30,
   "metadata": {},
   "outputs": [
    {
     "name": "stdout",
     "output_type": "stream",
     "text": [
      "Marvin\n"
     ]
    }
   ],
   "source": [
    "## variablen\n",
    "### generell Variablen\n",
    "name = \"Marvin\"\n",
    "print(name)"
   ]
  },
  {
   "cell_type": "code",
   "execution_count": 32,
   "metadata": {},
   "outputs": [
    {
     "name": "stdout",
     "output_type": "stream",
     "text": [
      "Stuttgart\n",
      "6.... Stuttgart\n"
     ]
    }
   ],
   "source": [
    "plz = \"6....\"\n",
    "ort = \"Stuttgart\"\n",
    "print(ort)\n",
    "ort_mit_plz = plz + \" \" + ort\n",
    "print(ort_mit_plz)"
   ]
  },
  {
   "cell_type": "code",
   "execution_count": 6,
   "metadata": {},
   "outputs": [
    {
     "name": "stdout",
     "output_type": "stream",
     "text": [
      "Mein Name ist Marvin\n"
     ]
    }
   ],
   "source": [
    "### Variablen kombinieren\n",
    "print(\"Mein Name ist \" + name)"
   ]
  },
  {
   "cell_type": "code",
   "execution_count": 7,
   "metadata": {},
   "outputs": [
    {
     "name": "stdout",
     "output_type": "stream",
     "text": [
      "Mein Name ist Marvin und ich komme aus Stuttgart.\n"
     ]
    }
   ],
   "source": [
    "#### Aufgabe\n",
    "#schreibe in einer Zeile aus wie du heißt und woher du kommst mit den Variablen name und ort\n",
    "print(\"Mein Name ist \" + name + \" und ich komme aus \" + ort + \".\")"
   ]
  },
  {
   "cell_type": "code",
   "execution_count": 8,
   "metadata": {},
   "outputs": [],
   "source": [
    "## input + kommentare\n",
    "#name = \"Marvin\""
   ]
  },
  {
   "cell_type": "code",
   "execution_count": 9,
   "metadata": {},
   "outputs": [
    {
     "name": "stdout",
     "output_type": "stream",
     "text": [
      "Simon\n"
     ]
    }
   ],
   "source": [
    "name = input()#achtung der Kernel spinnt hier manchmal"
   ]
  },
  {
   "cell_type": "code",
   "execution_count": 10,
   "metadata": {},
   "outputs": [
    {
     "name": "stdout",
     "output_type": "stream",
     "text": [
      "Wie ist dein Name?\n",
      "Simon\n",
      "Woher kommst du?\n",
      "Heidelberg\n"
     ]
    }
   ],
   "source": [
    "print(\"Wie ist dein Name?\")\n",
    "name = input()\n",
    "### Aufgabe\n",
    "print(\"Woher kommst du?\")\n",
    "ort = input()"
   ]
  },
  {
   "cell_type": "code",
   "execution_count": 11,
   "metadata": {},
   "outputs": [
    {
     "name": "stdout",
     "output_type": "stream",
     "text": [
      "Wie geht es dir?\n",
      "gut\n",
      "Supi, mir geht es auch gut!\n"
     ]
    }
   ],
   "source": [
    "## if Bedingung\n",
    "print(\"Wie geht es dir?\")\n",
    "antwort = input()\n",
    "\n",
    "#### Einrückung erklären, mal das zweite if \n",
    "if antwort == \"gut\":\n",
    "  print(\"Supi, mir geht es auch gut!\")\n",
    "  if antwort == \"schlecht\":#funktioniert nicht richtig\n",
    "    print(\"Oh das tut mir leid\")"
   ]
  },
  {
   "cell_type": "code",
   "execution_count": 12,
   "metadata": {},
   "outputs": [
    {
     "name": "stdout",
     "output_type": "stream",
     "text": [
      "Wie geht es dir?: mittel\n",
      "Ich kann dich nicht verstehen.\n"
     ]
    }
   ],
   "source": [
    "antwort = input(\"Wie geht es dir?: \")\n",
    "if antwort == \"gut\":\n",
    "  print(\"Supi, mir geht es auch gut!\")\n",
    "elif antwort == \"schlecht\":\n",
    "  print(\"Oh das tut mir leid\")\n",
    "else:\n",
    "  print(\"Ich kann dich nicht verstehen.\")"
   ]
  },
  {
   "cell_type": "code",
   "execution_count": 13,
   "metadata": {},
   "outputs": [],
   "source": [
    "#Zahlen erklären\n",
    "stunden_programmiert = 3000 #Variable (klein geschrieben)\n",
    "Antwort_auf_alles = 42 #Konstante (groß geschrieben)\n",
    "PI = 3.14159"
   ]
  },
  {
   "cell_type": "code",
   "execution_count": 14,
   "metadata": {},
   "outputs": [
    {
     "name": "stdout",
     "output_type": "stream",
     "text": [
      "Wie alt bist du?: 17\n"
     ]
    }
   ],
   "source": [
    "alter = int(input(\"Wie alt bist du?: \")) #weil input einen String zurückgibt, muss man das zu einem Integer konvertieren"
   ]
  },
  {
   "cell_type": "code",
   "execution_count": 15,
   "metadata": {},
   "outputs": [
    {
     "name": "stdout",
     "output_type": "stream",
     "text": [
      "Wie alt bist du? 15\n",
      "Dann bin ich  2  Jahre älter als du.\n"
     ]
    }
   ],
   "source": [
    "#Mit Zahlen kann man Rechnungen durchführen\n",
    "meinalter = 17\n",
    "alter = int(input(\"Wie alt bist du? \"))\n",
    "\n",
    "if meinalter == alter:\n",
    "\tprint(\"Lustig, ich auch\")\n",
    "elif meinalter > alter:\n",
    "\tprint(\"Dann bin ich \", meinalter - alter, \" Jahre älter als du.\")\n",
    "else:\n",
    "\tprint(\"Dann bist du \", alter - meinalter, \" Jahre älter als ich\")"
   ]
  },
  {
   "cell_type": "code",
   "execution_count": 16,
   "metadata": {},
   "outputs": [
    {
     "name": "stdout",
     "output_type": "stream",
     "text": [
      "17 >= 17:  True\n"
     ]
    }
   ],
   "source": [
    "#Vergleichsoperationen\n",
    "print(\"17 >= 17: \", 17 >= 17)"
   ]
  },
  {
   "cell_type": "code",
   "execution_count": 17,
   "metadata": {},
   "outputs": [
    {
     "name": "stdout",
     "output_type": "stream",
     "text": [
      "17 > 17:  False\n"
     ]
    }
   ],
   "source": [
    "print(\"17 > 17: \", 17 > 17)"
   ]
  },
  {
   "cell_type": "code",
   "execution_count": 18,
   "metadata": {},
   "outputs": [
    {
     "name": "stdout",
     "output_type": "stream",
     "text": [
      "13 != 17:  True\n",
      "26 != 'Hallo':  True\n",
      "'Hi' != 'Hi':  False\n"
     ]
    }
   ],
   "source": [
    "print(\"13 != 17: \", 13 != 17)\n",
    "print(\"26 != 'Hallo': \",26 != \"Hallo\") #Strings in Strings darstellen\n",
    "print(\"'Hi' != 'Hi': \", \"Hi\" != \"Hi\")"
   ]
  },
  {
   "cell_type": "code",
   "execution_count": null,
   "metadata": {},
   "outputs": [],
   "source": [
    "#kommentiere hintendran jeweils, ob du glaubst, ob die Variable True oder False ist\n",
    "a = True\n",
    "b = False\n",
    "c = (17 == 24)\n",
    "d = (5 <= 78)"
   ]
  },
  {
   "cell_type": "code",
   "execution_count": null,
   "metadata": {},
   "outputs": [],
   "source": [
    "e = !c\n",
    "f = a or b\n",
    "g = a and b\n",
    "h = b or (a and not c)"
   ]
  },
  {
   "cell_type": "code",
   "execution_count": null,
   "metadata": {},
   "outputs": [],
   "source": [
    "if f:\n",
    "\tprint(\"f is True\")\n",
    "if g:\n",
    "\tprint(\"g is True\")\n",
    "else:\n",
    "\tprint(\"g is False\")"
   ]
  },
  {
   "cell_type": "code",
   "execution_count": 19,
   "metadata": {},
   "outputs": [
    {
     "name": "stdout",
     "output_type": "stream",
     "text": [
      "Was möchtest du kaufen?\n",
      "Schnaps\n",
      "Wie alt bist du? 17\n",
      "Du bist leider noch zu jung um Bier zu kaufen\n"
     ]
    }
   ],
   "source": [
    "### Aufgabe Verkauf\n",
    "#Produkte: Wasser, Bier, Schnaps\n",
    "#Der Kunde soll eines der Produkte auswählen. Dann musst du ihn ggf nach dem Alter fragen.\n",
    "#Du kannst ihm immer Wasser, Bier ab 16 Jahren und Schnaps ab 18 Jahren verkaufen\n",
    "\n",
    "#Lösung\n",
    "print(\"Was möchtest du kaufen?\")\n",
    "produkt = input()\n",
    "if produkt == \"Wasser\":\n",
    "\tprint(\"Bittesehr :)\")\n",
    "elif produkt == \"Bier\":\n",
    "\talter = int(input(\"Wie alt bist du? \"))\n",
    "\tif alter > 15:\n",
    "\t\tprint(\"Bittesehr :)\")\n",
    "\telse:\n",
    "\t\tprint(\"Du bist leider noch zu jung um Bier zu kaufen\")\n",
    "else:#will Schnaps kaufen\n",
    "\talter = int(input(\"Wie alt bist du? \"))\n",
    "\tif alter > 17:\n",
    "\t\tprint(\"Bittesehr :)\")\n",
    "\telse:\n",
    "\t\tprint(\"Du bist leider noch zu jung um Schnaps zu kaufen\")\t"
   ]
  },
  {
   "cell_type": "code",
   "execution_count": 20,
   "metadata": {},
   "outputs": [
    {
     "name": "stdout",
     "output_type": "stream",
     "text": [
      "21\n",
      "-3\n",
      "108\n",
      "0.75\n",
      "41\n",
      "96\n",
      "16\n",
      "27\n"
     ]
    }
   ],
   "source": [
    "#mathematische Operationen\n",
    "a = 9\n",
    "b = 12\n",
    "print(a+b)\n",
    "print(a-b)\n",
    "print(a*b)\n",
    "print(a/b)#Kommazahl\n",
    "print(12*3+5)\n",
    "print(12*(3+5))\n",
    "print(2**4)#'hoch'\n",
    "print(3**3)"
   ]
  },
  {
   "cell_type": "code",
   "execution_count": 21,
   "metadata": {},
   "outputs": [
    {
     "name": "stdout",
     "output_type": "stream",
     "text": [
      "<class 'int'>\n",
      "<class 'float'>\n"
     ]
    }
   ],
   "source": [
    "c = a/b\n",
    "print(type(a))#int\n",
    "print(type(c))#float\n",
    "#Unterschiedlicher Datentyp\n",
    "#"
   ]
  },
  {
   "cell_type": "code",
   "execution_count": 3,
   "metadata": {},
   "outputs": [
    {
     "data": {
      "text/plain": [
       "0.30000000000000004"
      ]
     },
     "execution_count": 3,
     "metadata": {},
     "output_type": "execute_result"
    }
   ],
   "source": [
    "0.1+0.1+0.1"
   ]
  },
  {
   "cell_type": "code",
   "execution_count": 5,
   "metadata": {},
   "outputs": [
    {
     "name": "stdout",
     "output_type": "stream",
     "text": [
      "0.1+0.1+0.1 != 0.3\n"
     ]
    }
   ],
   "source": [
    "if 0.1+0.1+0.1 == 0.3:\n",
    "    print(\"0.1+0.1+0.1 = 0.3\")\n",
    "else:\n",
    "    print(\"0.1+0.1+0.1 != 0.3\")"
   ]
  },
  {
   "cell_type": "code",
   "execution_count": 22,
   "metadata": {},
   "outputs": [
    {
     "name": "stdout",
     "output_type": "stream",
     "text": [
      "0\n",
      "<class 'int'>\n"
     ]
    }
   ],
   "source": [
    "print(a//b)#floor division (immer einfach abgerundet)\n",
    "d = a//b\n",
    "print(type(d))"
   ]
  },
  {
   "cell_type": "code",
   "execution_count": 23,
   "metadata": {},
   "outputs": [
    {
     "name": "stdout",
     "output_type": "stream",
     "text": [
      "9\n"
     ]
    }
   ],
   "source": [
    "#Modulo (\"Rest\")\n",
    "print(a%b)"
   ]
  },
  {
   "cell_type": "code",
   "execution_count": 33,
   "metadata": {},
   "outputs": [
    {
     "name": "stdout",
     "output_type": "stream",
     "text": [
      "3\n",
      "4\n"
     ]
    }
   ],
   "source": [
    "print(b%a)\n",
    "print(28 % 6)"
   ]
  },
  {
   "cell_type": "code",
   "execution_count": 34,
   "metadata": {},
   "outputs": [
    {
     "name": "stdout",
     "output_type": "stream",
     "text": [
      "Gib mir eine Zahl: 16\n",
      "16  ist gerade!\n"
     ]
    }
   ],
   "source": [
    "#Überprüfe ob eine Zahl gerade ist\n",
    "z = int(input(\"Gib mir eine Zahl: \"))\n",
    "if z % 2 == 0:\n",
    "\tprint(z, \" ist gerade!\")\n",
    "else:\n",
    "\tprint(z, \" ist ungerade!\")"
   ]
  },
  {
   "cell_type": "code",
   "execution_count": 26,
   "metadata": {},
   "outputs": [
    {
     "name": "stdout",
     "output_type": "stream",
     "text": [
      "Gebe hier die Zahl ein: 13\n",
      "13\n",
      "Gebe hier die Zahl ein: 30\n",
      "FizzBuzz\n"
     ]
    }
   ],
   "source": [
    "# Hausaufgabe: FizzBuzz\n",
    "#Spiel geht so: Man bekommt eine Zahl, wenn diese durch 3 und durch 5 teilbar ist sagt man FizzBuzz, sonst,\n",
    "#wenn sie durch 3 teilbar ist Fizz, sonst wenn sie durch 5 teilbar ist Buzz und ansonsten einfach nur die Zahl\n",
    "#Aufgabe: Programmiere FizzBuzz\n",
    "\n",
    "#Lösung\n",
    "zahl = int(input(\"Gebe hier die Zahl ein: \"))\n",
    "if zahl % 15 == 0:\n",
    "\tprint(\"Fizzbuzz\")\n",
    "elif zahl % 3 == 0:\n",
    "\tprint(\"Fizz\")\n",
    "elif zahl % 5 == 0:\n",
    "\tprint(\"Buzz\")\n",
    "else:\n",
    "\tprint(zahl)\n",
    "    \n",
    "# Lösung 2\n",
    "zahl = int(input(\"Gebe hier die Zahl ein: \"))\n",
    "output = \"\"\n",
    "if zahl % 3 == 0:\n",
    "\toutput += \"Fizz\"\n",
    "if zahl % 5 == 0:\n",
    "\toutput += \"Buzz\"\n",
    "if output == \"\":\n",
    "\toutput = zahl\n",
    "print(output)"
   ]
  },
  {
   "cell_type": "code",
   "execution_count": null,
   "metadata": {},
   "outputs": [],
   "source": []
  },
  {
   "cell_type": "code",
   "execution_count": null,
   "metadata": {},
   "outputs": [],
   "source": []
  },
  {
   "cell_type": "code",
   "execution_count": null,
   "metadata": {},
   "outputs": [],
   "source": []
  },
  {
   "cell_type": "code",
   "execution_count": null,
   "metadata": {},
   "outputs": [],
   "source": []
  },
  {
   "cell_type": "code",
   "execution_count": null,
   "metadata": {},
   "outputs": [],
   "source": []
  },
  {
   "cell_type": "code",
   "execution_count": null,
   "metadata": {},
   "outputs": [],
   "source": []
  }
 ],
 "metadata": {
  "kernelspec": {
   "display_name": "Python 3",
   "language": "python",
   "name": "python3"
  },
  "language_info": {
   "codemirror_mode": {
    "name": "ipython",
    "version": 3
   },
   "file_extension": ".py",
   "mimetype": "text/x-python",
   "name": "python",
   "nbconvert_exporter": "python",
   "pygments_lexer": "ipython3",
   "version": "3.8.5"
  }
 },
 "nbformat": 4,
 "nbformat_minor": 4
}
