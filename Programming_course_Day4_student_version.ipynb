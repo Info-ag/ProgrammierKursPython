{
 "cells": [
  {
   "cell_type": "code",
   "execution_count": null,
   "metadata": {},
   "outputs": [],
   "source": [
    "####################################### Day 4 ###########################################\n",
    "\n",
    "#Besprechung Hausaufgaben"
   ]
  },
  {
   "cell_type": "code",
   "execution_count": null,
   "metadata": {},
   "outputs": [],
   "source": [
    "#Rekursion\n",
    "\n",
    "#Man kann eine Funktion auch in dieser Funktion aufrufen --> Rekursion\n",
    "\n",
    "def fib(n):\n",
    "\tif n == 1 or n == 2:#Rekursionsanker\n",
    "\t\treturn 1\n",
    "\telse:#Rekursionsschritt\n",
    "\t\treturn fib(n-1) + fib(n-2)\n",
    "\n",
    "#wenn der Rekursionsanker fehlt gibt es eine Endlosschleife\n",
    "print(fib(3))\n",
    "print(fib(6))"
   ]
  },
  {
   "cell_type": "code",
   "execution_count": null,
   "metadata": {},
   "outputs": [],
   "source": [
    "#Aufgabe\n",
    "#Programmiere die Fakultätsfunktion rekursiv\n",
    "#Diese ist wie folgt definiert: fak(n) = n*(n-1)*(n-2)*...*1\n",
    "\n"
   ]
  },
  {
   "cell_type": "code",
   "execution_count": null,
   "metadata": {},
   "outputs": [],
   "source": [
    "#Man kann eigentlich alles sowohl iterativ als auch rekursiv berechnen. Manchmal ist eines davon aber leichter.\n",
    "\n",
    "def reverse2(string):\n",
    "\tif len(string) == 0:\n",
    "\t\treturn \"\"\n",
    "\telse:\n",
    "\t\treturn string[-1] + reverse2(string[:-1])"
   ]
  },
  {
   "cell_type": "code",
   "execution_count": null,
   "metadata": {},
   "outputs": [],
   "source": [
    "#Aufgabe\n",
    "#Programmiere die Berechnung des Binominalkoeffizienten rekursiv\n",
    "#Für den Binominalkoeffizienten gilt:\n",
    "#binom(n,0) = 1, binom(n,n) = 1\n",
    "#binom(n,k) = binom(n-1,k-1) + binom(n-1, k)\n",
    "\n"
   ]
  },
  {
   "cell_type": "code",
   "execution_count": null,
   "metadata": {},
   "outputs": [],
   "source": [
    "#Effizienz und Laufzeit\n",
    "\n",
    "#häufig ist es sehr wichtig, dass Algorithmen schnell sind\n",
    "\n",
    "#Die Funktionen fib() und binom() brauchen sehr viel Zeit, da häufig sehr viele Teile mehrfach berechnet werden.\n",
    "#(Bspw. wird fib(2) schon 5 mal berechnet, wenn man fib(6) berechnet)\n",
    "\n",
    "#Zeigen, dass fib(30) oder fib(35) schon sehr lange braucht.\n",
    "\n",
    "#Deswegen ist es hier sinnvoll, Zwischenergebnisse zu speichern, oder den Algorithmsu anders zu programmieren,\n",
    "#sodass nur einmal eine Zahl berechnet werden muss.\n",
    "\n",
    "#Das geht so (mit Memory Array):\n",
    "\n",
    "mem = [0,1,1]#Es gibt keine 0te Fibonaccizahl und die ersten beiden sind 1\n",
    "def fib2(n):\n",
    "\tif len(mem) > n:\n",
    "\t\treturn mem[n]\n",
    "\telse:\n",
    "\t\tmem.append(fib2(n-1) + fib2(n-2))\n",
    "\t\treturn mem[n]\n",
    "    \n",
    "print(fib2(30))\n",
    "print(fib2(100))"
   ]
  },
  {
   "cell_type": "code",
   "execution_count": null,
   "metadata": {},
   "outputs": [],
   "source": [
    "#oder so:\n",
    "\n",
    "def fib3(n):\n",
    "\tprev_fib = 1\n",
    "\tprev2_fib = 1\n",
    "\tfor i in range(2,n):\n",
    "\t\tnext_fib = prev_fib + prev2_fib\n",
    "\t\tprev2_fib = prev_fib\n",
    "\t\tprev_fib = next_fib\n",
    "\treturn prev_fib\n",
    "\n",
    "print(fib2(30))\n",
    "print(fib2(100))"
   ]
  },
  {
   "cell_type": "code",
   "execution_count": null,
   "metadata": {},
   "outputs": [],
   "source": [
    "#Dictionaries\n",
    "\n",
    "prices = {\"Apple\":\"1€\", \"Banana\":\"2€\",\"Strawberries\":\"3€\"} #Key: value Paare\n",
    "prices2 = {\"Apple\":1, \"Banana\":2,\"Strawberries\":3, \"Potato\":0.5}\n",
    "buying = {\"Apple\":3,\"Banana\":5,\"Potato\":10}"
   ]
  },
  {
   "cell_type": "code",
   "execution_count": null,
   "metadata": {},
   "outputs": [],
   "source": [
    "print(prices[\"Apple\"])#ähnlich wie Listen, nur mit keys anstatt Indexe\n",
    "print(prices2[\"Potato\"])"
   ]
  },
  {
   "cell_type": "code",
   "execution_count": null,
   "metadata": {},
   "outputs": [],
   "source": [
    "print(buying.keys())\n",
    "print(buying.values())\n",
    "print(buying.items())\n",
    "print(buying)"
   ]
  },
  {
   "cell_type": "code",
   "execution_count": null,
   "metadata": {},
   "outputs": [],
   "source": [
    "prices2[\"Carrot\"] = 1.5\n",
    "print(prices2[\"Carrot\"])"
   ]
  },
  {
   "cell_type": "code",
   "execution_count": null,
   "metadata": {},
   "outputs": [],
   "source": [
    "for key, value in prices2.items():\n",
    "\tprint(\"The product \", key, \" costs \", value, \"€.\")"
   ]
  },
  {
   "cell_type": "code",
   "execution_count": null,
   "metadata": {},
   "outputs": [],
   "source": [
    "#Aufgabe\n",
    "#berechne den Preis (durch ein Programm), den man Zahlen muss, wenn man die Produkte aus buying mit der jeweiligen Anzahl und den Preisen aus prices2 kauft.\n",
    "\n"
   ]
  },
  {
   "cell_type": "code",
   "execution_count": null,
   "metadata": {},
   "outputs": [],
   "source": [
    "#Sortieren, Binäre Suche und Hashing\n",
    "\n",
    "#Problem (nicht zum selbst bearbeiten): Du hast zwei Listen gegeben, und möchtest die Elemente finden, die in beiden Listen vorkommen.\n",
    "\n",
    "list1 = [76,23,6,2,11,42,15,123,8,21,55]\n",
    "list2 = [87,2,34,85,21,33,55,6,12,76,31,876,35,29]\n"
   ]
  },
  {
   "cell_type": "code",
   "execution_count": null,
   "metadata": {},
   "outputs": [],
   "source": [
    "#langsame Lösung\n",
    "shared = []\n",
    "for i in list1:\n",
    "\tfor j in list2:\n",
    "\t\tif i == j:\n",
    "\t\t\tshared.append(i)\n",
    "print(shared)"
   ]
  },
  {
   "cell_type": "code",
   "execution_count": null,
   "metadata": {},
   "outputs": [],
   "source": [
    "#das gleiche geht auch so:\n",
    "shared = []\n",
    "for i in list1:\n",
    "    if i in list2:#geht jedes Element von list2 durch\n",
    "        shared.append(i)\n",
    "print(shared)"
   ]
  },
  {
   "cell_type": "code",
   "execution_count": null,
   "metadata": {},
   "outputs": [],
   "source": [
    "#schnellere Lösung:\n",
    "#Sortieren und Binäre suche\n",
    "#erklären wieso das Sinnvoll ist --> vergleich mit dem Ratespiel, wo man herausfinden muss, was die gesuchte Zahl war\n",
    "\n",
    "shared = []\n",
    "list2.sort()#sortiert die Liste\n",
    "print(list2)\n",
    "\n",
    "#binäre Suche\n",
    "for item in list1:\n",
    "\t#left und right geben den Bereich der Indexe an, wo die Zahl item vorkommen könnte\n",
    "\tleft = 0\n",
    "\tright = len(list2)-1\n",
    "\twhile left <= right:\n",
    "\t\tmid = (left + right)//2\n",
    "\t\tif list2[mid] == item:\n",
    "\t\t\tshared.append(item)\n",
    "\t\t\tbreak #bricht aus der inneren Schleife aus (wir müssen dann nicht mehr weiter suchen)\n",
    "\t\telif list2[mid] < item:\n",
    "\t\t\tleft = mid+1\n",
    "\t\telse:\n",
    "\t\t\tright = mid-1\n",
    "print(shared)\n",
    "#bei der Implementierung von binären Suchen entstehen häufig Fehler"
   ]
  },
  {
   "cell_type": "code",
   "execution_count": null,
   "metadata": {},
   "outputs": [],
   "source": [
    "#noch etwas schnellere Lösung\n",
    "\n",
    "#wir benutzen eine neue Datenstruktur: ein Set\n",
    "#Ein Set funktioniert über Hashing. #Hashing erklären. (by the way, Dictionaries funktionieren auch mit Hashing)\n",
    "#Dadurch können wir sehr schnell feststellen, ob ein bestimmtes Element in dem Set drin ist oder nicht.\n",
    "\n",
    "s = set()\n",
    "shared = []\n",
    "for item in list1:\n",
    "\ts.add(item)\n",
    "for item in list2:\n",
    "\tif item in s:#das geht schneller als bei list\n",
    "\t\tshared.append(item)\n",
    "print(shared)"
   ]
  },
  {
   "cell_type": "code",
   "execution_count": null,
   "metadata": {},
   "outputs": [],
   "source": [
    "#Man kann sets übrigens auch so erstellen:\n",
    "\n",
    "s = {\"Apple\", 2, -0.5, 42, 73}#wie Dictionaries nur ohne values"
   ]
  },
  {
   "cell_type": "code",
   "execution_count": null,
   "metadata": {},
   "outputs": [],
   "source": [
    "#Hausaufgabe 1\n",
    "#programmiere einen Algorithmus, der das Rästelspiel von gestern (oder vorgestern) in möglichst wenig Schritten löst.\n",
    "#Dein Algorithmus soll dabei immer die Feedback Funktion benutzen\n",
    "\n",
    "import random\n",
    "r = random.randint(1,100)\n",
    "\n",
    "def feedback(guess):\n",
    "\tif r == guess:\n",
    "\t\treturn \"=\"\n",
    "\telif r < guess:\n",
    "\t\treturn \"<\"\n",
    "\telse:\n",
    "\t\treturn \">\"\n",
    "\n",
    "\n"
   ]
  },
  {
   "cell_type": "code",
   "execution_count": null,
   "metadata": {},
   "outputs": [],
   "source": [
    "#Hausaufgabe 2 (schwierig)\n",
    "#Programmiere ein Programm, das eine Liste bekommt und nacheinander alle Permutationen dieser Liste ausschreibt.\n",
    "#Bsp: [1,2,3] --> [1,2,3],[1,3,2],[2,1,3],[2,3,1],[3,1,2],[3,2,1]\n",
    "#Tipp: Rekursion (mit einer Schleife)\n",
    "\n"
   ]
  },
  {
   "cell_type": "code",
   "execution_count": null,
   "metadata": {},
   "outputs": [],
   "source": [
    "#Zusatz Hausaufgabe (freiwillig und relativ schwer)\n",
    "#Programmiere die binom() Funktion effizient (aber ohne Fakultät).\n",
    "\n"
   ]
  },
  {
   "cell_type": "code",
   "execution_count": null,
   "metadata": {},
   "outputs": [],
   "source": []
  }
 ],
 "metadata": {
  "kernelspec": {
   "display_name": "Python 3",
   "language": "python",
   "name": "python3"
  },
  "language_info": {
   "codemirror_mode": {
    "name": "ipython",
    "version": 3
   },
   "file_extension": ".py",
   "mimetype": "text/x-python",
   "name": "python",
   "nbconvert_exporter": "python",
   "pygments_lexer": "ipython3",
   "version": "3.8.5"
  }
 },
 "nbformat": 4,
 "nbformat_minor": 4
}
