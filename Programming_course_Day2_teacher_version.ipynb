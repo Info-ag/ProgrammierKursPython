{
 "cells": [
  {
   "cell_type": "code",
   "execution_count": null,
   "metadata": {},
   "outputs": [],
   "source": [
    "##################### Day 2 ##############################################\n",
    "\n",
    "#Besprechung Hausaufgabe (auch gut als Wiederholung um wieder rein zu kommen)\n",
    "\n",
    "#Boolean Zeug"
   ]
  },
  {
   "cell_type": "code",
   "execution_count": null,
   "metadata": {},
   "outputs": [],
   "source": [
    "## Schleifen\n",
    "\n",
    "# while\n",
    "\n",
    "while True:#gefahr, dass das Programm oder der PC abstürtzt\n",
    "\tprint(\"Endlosschleifen sind böse!\")"
   ]
  },
  {
   "cell_type": "code",
   "execution_count": null,
   "metadata": {},
   "outputs": [],
   "source": [
    "a = 1\n",
    "maximum = int(input(\"Bis zu welcher Zahl möchtest du zählen? \"))\n",
    "while a <= maximum:\n",
    "\tprint(a)\n",
    "\ta += 1 # ist das gleiche wie a = a+1"
   ]
  },
  {
   "cell_type": "code",
   "execution_count": null,
   "metadata": {},
   "outputs": [],
   "source": [
    "while input(\"Muss ich noch mal Hallo sagen? (y/n) \") == \"y\":\n",
    "\tprint(\"Hallo\")"
   ]
  },
  {
   "cell_type": "code",
   "execution_count": null,
   "metadata": {},
   "outputs": [],
   "source": [
    "for i in range(13):#von 0 bis 12\n",
    "\tprint(i)"
   ]
  },
  {
   "cell_type": "code",
   "execution_count": null,
   "metadata": {},
   "outputs": [],
   "source": [
    "for i in range(2,15): #von 0 bis 14\n",
    "\tprint(i)"
   ]
  },
  {
   "cell_type": "code",
   "execution_count": null,
   "metadata": {},
   "outputs": [],
   "source": [
    "for i in range(3,36,3): #von drei an jede dritte Zahl, die kleiner als 36 ist\n",
    "\tprint(i)"
   ]
  },
  {
   "cell_type": "code",
   "execution_count": null,
   "metadata": {},
   "outputs": [],
   "source": [
    "#Listen\n",
    "\n",
    "list1 = [1,2,4,8,16]\n",
    "\n",
    "for i in list1:\n",
    "\tprint(i)\n",
    "    \n",
    "#Hier auch den Geltungsbereich von Variablen erklären (i existiert außerhalb der for loop nicht)"
   ]
  },
  {
   "cell_type": "code",
   "execution_count": null,
   "metadata": {},
   "outputs": [],
   "source": [
    "list2 = []\n",
    "for i in range(200):\n",
    "\tlist2.append(i)\n",
    "print(list2)"
   ]
  },
  {
   "cell_type": "code",
   "execution_count": null,
   "metadata": {},
   "outputs": [],
   "source": [
    "##Aufgabe\n",
    "#Liste mit allen Zweierpotenzen von 1 bis 2^20\n",
    "\n",
    "#Lösung\n",
    "powers_of_2 = []\n",
    "for i in range(21):\n",
    "\tpowers_of_2.append(2**i)"
   ]
  },
  {
   "cell_type": "code",
   "execution_count": null,
   "metadata": {},
   "outputs": [],
   "source": [
    "namen = [\"Marvin\", \"Simon\", \"...\"]\n",
    "print(\"Leute im Programmierkurs sind: \")\n",
    "for name in namen:\n",
    "\tprint(\"-\", name)\n"
   ]
  },
  {
   "cell_type": "code",
   "execution_count": null,
   "metadata": {},
   "outputs": [],
   "source": [
    "#Indexe\n",
    "\n",
    "#Indexe beginnen immer mit 0\n",
    "\n",
    "list3 = [10,20,30,40,50,60]\n",
    "print(list3[0])#erstes Element in der Liste\n",
    "print(list3[3])#viertes Element"
   ]
  },
  {
   "cell_type": "code",
   "execution_count": null,
   "metadata": {},
   "outputs": [],
   "source": [
    "#geht auch mit Strings\n",
    "alph = \"abcdefghijklmnopqrstuvwxyz\"\n",
    "print(alph[11])#12ter Buchstabe im Alphabet\n"
   ]
  },
  {
   "cell_type": "code",
   "execution_count": null,
   "metadata": {},
   "outputs": [],
   "source": [
    "#Aufgabe\n",
    "#gebe alle Elemente vom 5. bis zum 9. Index der Liste list4 aus\n",
    "list4 = [1,1,2,3,5,8,13,21,34,55,89,144]#fibonacci Zahlen\n",
    "\n",
    "#Lösung\n",
    "for i in range(5,10):\n",
    "\tprint(list4[i])"
   ]
  },
  {
   "cell_type": "code",
   "execution_count": null,
   "metadata": {},
   "outputs": [],
   "source": [
    "#'von hinten':\n",
    "print(\"Der letzte Buchstabe ist: \", alph[-1])\n",
    "print(\"Der vorletzte Buchstabe ist: \", alph[-2])"
   ]
  },
  {
   "cell_type": "code",
   "execution_count": null,
   "metadata": {},
   "outputs": [],
   "source": [
    "#len() gibt die Länge einer Liste zurück (Anzahl Elemente)\n",
    "print(len(list4))\n",
    "for i in range(len(list4)):\n",
    "\tprint(\"Das Element bei Index \", i, \" ist: \", list4[i])"
   ]
  },
  {
   "cell_type": "code",
   "execution_count": null,
   "metadata": {},
   "outputs": [],
   "source": [
    "#Aufgabe\n",
    "#erstelle einen String der das Alphabet rückwärts beinhaltet, indem du den String alph nutzt\n",
    "\n",
    "#Lösung\n",
    "rev_alph = \"\"\n",
    "for i in range(1,len(alph)+1):\n",
    "\trev_alph += alph[-i]\n",
    "\n",
    "#oder\n",
    "rev_alph = \"\"\n",
    "for i in range(len(alph)-1,-1,-1):\n",
    "\trev_alph += alph[i]"
   ]
  },
  {
   "cell_type": "code",
   "execution_count": 2,
   "metadata": {},
   "outputs": [
    {
     "name": "stdout",
     "output_type": "stream",
     "text": [
      "[3, 6, 8, 2, 13, 24]\n",
      "[3, 6, 2, 13, 24]\n",
      "[3, 13, 24]\n"
     ]
    }
   ],
   "source": [
    "#wie man Zeug aus Listen löscht\n",
    "list6 = [3,6,8,2,13,67,24]\n",
    "list6.pop(-2)#remove by index\n",
    "print(list6)\n",
    "list6.remove(8)#remove by item\n",
    "print(list6)\n",
    "del list6[1:3]#remove by slice\n",
    "print(list6)"
   ]
  },
  {
   "cell_type": "code",
   "execution_count": null,
   "metadata": {},
   "outputs": [],
   "source": [
    "#umgekehrt auf den Index kommen mit index()\n",
    "list3 = [10,20,30,40,50,60]\n",
    "print(list3.index(30))\n",
    "list5 = [3,5,7,5,2]\n",
    "print(list5.index(5))#gibt ersten Index zurück"
   ]
  },
  {
   "cell_type": "code",
   "execution_count": null,
   "metadata": {},
   "outputs": [],
   "source": [
    "#es gilt a == list[list.index(a)]\n",
    "\n",
    "print(alph.index(\"l\"))#gibt index von l in alph zurück"
   ]
  },
  {
   "cell_type": "code",
   "execution_count": null,
   "metadata": {},
   "outputs": [],
   "source": [
    "#slices\n",
    "\n",
    "first_half_list3 = list3[:3]#mit Indexen 0,1,2\n",
    "second_half_list3 = list3[3:]#mit Indexen 3,4,5\n",
    "middle_of_list3 = list3[2:4]#mit Indexen 2,3\n",
    "\n",
    "#mit Schrittweite\n",
    "every_second_of_list3 = list3[::2]\n",
    "print(every_second_of_list3)\n",
    "#Wie sonst auch (ähnlich wie bei range()), gibt list[minimum:maximum] alle Elemente von Index minimum bis maximum-1 zurück\n"
   ]
  },
  {
   "cell_type": "code",
   "execution_count": null,
   "metadata": {},
   "outputs": [],
   "source": [
    "#Aufgabe\n",
    "#erstelle einen String wo zunächst die hintere Hälfte des Alphabets vorkommt und dann die vordere Hälfte.\n",
    "\n",
    "#Lösung\n",
    "string = alph[13:] + alph[:13]"
   ]
  },
  {
   "cell_type": "code",
   "execution_count": null,
   "metadata": {},
   "outputs": [],
   "source": [
    "#Hausaufgabe 1\n",
    "#schreibe ein Programm, das checkt, ob ein eingabestring ein Palindrom ist, bzw. ob er vorwärts und rückwärts gleich ist.\n",
    "#ABBA und LAGERREGAL sind beispielsweise Palindrome.\n",
    "\n",
    "#Lösung 1\n",
    "string = input(\"Gebe deinen String hier ein: \")\n",
    "rev_string = \"\"\n",
    "for i in range(1,len(string)+1):\n",
    "\trev_string += string[-i]\n",
    "if string == rev_string:\n",
    "\tprint(\"Juhu, ein Palindrom\")\n",
    "else:\n",
    "\tprint(\"Leider kein Palindrom\")\n",
    "\n",
    "#Lösung 2\n",
    "string = input(\"Gebe deinen String hier ein: \")\n",
    "pal = True\n",
    "for i in range(len(string)):\n",
    "\tif string[i] != string[-i-1]:\n",
    "\t\tpal = False\n",
    "if pal:\n",
    "\tprint(\"Juhu, ein Palindrom\")\n",
    "else:\n",
    "\tprint(\"Leider kein Palindrom\")"
   ]
  },
  {
   "cell_type": "code",
   "execution_count": null,
   "metadata": {},
   "outputs": [],
   "source": [
    "#Hausaufgabe 2\n",
    "#Schreibe ein Programm, das die Quersumme einer Zahl berechnet.\n",
    "\n",
    "#Lösung 1 mit Strings zerlegen und zu Ints umwandeln\n",
    "\n",
    "#Lösung\n",
    "zahl = int(input(\"Gebe hier deine Zahl ein: \"))\n",
    "quersumme = 0\n",
    "while (zahl != 0):\n",
    "\tquersumme += zahl % 10\n",
    "\tzahl //= 10\n",
    "print(quersumme)"
   ]
  },
  {
   "cell_type": "code",
   "execution_count": null,
   "metadata": {},
   "outputs": [],
   "source": []
  },
  {
   "cell_type": "code",
   "execution_count": null,
   "metadata": {},
   "outputs": [],
   "source": []
  }
 ],
 "metadata": {
  "kernelspec": {
   "display_name": "Python 3",
   "language": "python",
   "name": "python3"
  },
  "language_info": {
   "codemirror_mode": {
    "name": "ipython",
    "version": 3
   },
   "file_extension": ".py",
   "mimetype": "text/x-python",
   "name": "python",
   "nbconvert_exporter": "python",
   "pygments_lexer": "ipython3",
   "version": "3.8.5"
  }
 },
 "nbformat": 4,
 "nbformat_minor": 4
}
