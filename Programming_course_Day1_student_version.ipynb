{
 "cells": [
  {
   "source": [
    "# Tag 1\n",
    "## Über den Programmierkurs\n",
    "Willkommen zum Programmierkurs!\n",
    "\n",
    "Dieser Kurs soll euch ein ersten Kontakt mit der Programmierung speziell mit der Programmiersprache Python bieten. Dabei lernt ihr die wichtigsten Befehle, Typen und Operationen die ihr in der Programmierung und Datenanalyse mit Python stets brauchen werdet.\n",
    "\n",
    "## Wie funktioniert Programmieren?\n",
    "Beim Programmieren kommt es darauf an Konzepte zu verstehen mit denen man konkrete Probleme lösen kann.\n",
    "Es geht nicht ums Auswendiglernen! Und das ist gut so! Dafür haben wir das Internet!\n",
    "Der Alltag eines Programmierers besteht neben dem kreativen Lösen von komplexen Problemen hauptsächlich aus dem Nachschlagen von Vergessenem (oder gar Unbekanntem). Ihr könnt gerne dieses Skript zum nachschlagen verwenden. Falls ihr immer noch nicht weiter kommt, so googlet mal.\n",
    "Googlen funktioniert wie folgt: Ihr startet bei python immer mit \"python\", danach könnt ihr entweder eine Fehlermeldung die ihr nicht versteht copy paste dahinter schreiben und ihr erhaltet in den Ergebnissen eig. immer eine gute Antwort.\n",
    "\n",
    "## Jupyter Notebook (Unser Programmierwerkzeug)\n",
    "Unser Werkzeug ist Zellen basiert. In jeder Zelle kann Code stehen den ihr ausführen könnt.\n",
    "Ihr führt den Code aus, indem ihr in die Zelle klickt und dann entweder oben in der Leiste auf \"run\" drückt oder die Tastenkombination STRG+ENTER drückt.\n",
    "\n",
    "## Aufgaben\n",
    "Die Aufgaben sind das wichtigste, ihr solltet versuchen sie alleine zu machen (oder maximal in zweier Teams, aber schaut, dass dann nicht einer alles alleine macht).\n",
    "Wenn ihr etwas nicht verstanden habt, meldet euch direkt.\n",
    "Wenn ihr eine Aufgabe nicht lösen könnt, fragt uns, wir helfen euch, versucht es aber unbedingt erst einmal selbst."
   ],
   "cell_type": "markdown",
   "metadata": {}
  },
  {
   "cell_type": "code",
   "execution_count": null,
   "metadata": {},
   "outputs": [],
   "source": [
    "# Einführung\n",
    "## print\n",
    "print(\"Hallo!\")\n"
   ]
  },
  {
   "cell_type": "code",
   "execution_count": null,
   "metadata": {},
   "outputs": [],
   "source": [
    "### Aufgabe\n",
    "#schreibe \"Hallo Welt\" aus\n"
   ]
  },
  {
   "cell_type": "code",
   "execution_count": null,
   "metadata": {},
   "outputs": [],
   "source": [
    "## variablen\n",
    "### generell Variablen\n",
    "name = \"\"\n",
    "print(name)"
   ]
  },
  {
   "cell_type": "code",
   "execution_count": null,
   "metadata": {},
   "outputs": [],
   "source": [
    "plz = \".....\"\n",
    "ort = \"\"\n",
    "print(ort)\n",
    "ort_mit_plz = \"\"#abschreiben\n",
    "print(ort_mit_plz)"
   ]
  },
  {
   "cell_type": "code",
   "execution_count": null,
   "metadata": {},
   "outputs": [],
   "source": [
    "print(\"Mein Name ist \" + name)"
   ]
  },
  {
   "cell_type": "code",
   "execution_count": null,
   "metadata": {},
   "outputs": [],
   "source": [
    "#### Aufgabe\n",
    "#schreibe in einer Zeile aus wie du heißt und woher du kommst mit den Variablen name und ort\n",
    "print(\"Mein Name ist \" + name + \" und ich komme aus \" + ort + \".\")"
   ]
  },
  {
   "cell_type": "code",
   "execution_count": null,
   "metadata": {},
   "outputs": [],
   "source": [
    "## input + kommentare\n",
    "#name = \"Marvin\"\n",
    "#alles hinter einem # wird nicht ausgeführt\n",
    "\"\"\"\n",
    "für mehrzeilige Kommentare kann man auch die dreifachen Anführungszeichen schreiben\n",
    "Blöd ist nur, dass das dann hier beim Ausführen als String interpretiert wird.\n",
    "\"\"\""
   ]
  },
  {
   "cell_type": "code",
   "execution_count": null,
   "metadata": {},
   "outputs": [],
   "source": [
    "name = input()"
   ]
  },
  {
   "cell_type": "code",
   "execution_count": null,
   "metadata": {},
   "outputs": [],
   "source": [
    "print(\"Wie ist dein Name?\")\n",
    "name = input()\n",
    "### Aufgabe\n",
    "#schreibe \"Woher kommst du\" und dann schreibe der Variable ort den Input zu"
   ]
  },
  {
   "cell_type": "code",
   "execution_count": null,
   "metadata": {},
   "outputs": [],
   "source": [
    "antwort = input(\"Wie geht es dir?: \")\n",
    "if antwort == \"gut\":\n",
    "  print(\"Supi, mir geht es auch gut!\")\n",
    "elif antwort == \"schlecht\":\n",
    "  print(\"Oh das tut mir leid\")\n",
    "else:\n",
    "  print(\"Ich kann dich nicht verstehen.\")"
   ]
  },
  {
   "cell_type": "code",
   "execution_count": null,
   "metadata": {},
   "outputs": [],
   "source": [
    "#Zahlen erklären\n",
    "stunden_programmiert = 3000 #Variable (klein geschrieben)\n",
    "Antwort_auf_alles = 42 #Konstante (groß geschrieben)\n",
    "PI = 3.14159"
   ]
  },
  {
   "cell_type": "code",
   "execution_count": null,
   "metadata": {},
   "outputs": [],
   "source": [
    "alter = int(input(\"Wie alt bist du?: \")) #weil input einen String zurückgibt, muss man das zu einem Integer konvertieren"
   ]
  },
  {
   "cell_type": "code",
   "execution_count": null,
   "metadata": {},
   "outputs": [],
   "source": [
    "#Mit Zahlen kann man Rechnungen durchführen\n",
    "meinalter = 17\n",
    "alter = int(input(\"Wie alt bist du? \"))\n",
    "\n",
    "if meinalter == alter:\n",
    "\tprint(\"Lustig, ich auch\")\n",
    "elif meinalter > alter:\n",
    "\tprint(\"Dann bin ich \", meinalter - alter, \" Jahre älter als du.\")\n",
    "else:\n",
    "\tprint(\"Dann bist du \", alter - meinalter, \" Jahre älter als ich\")"
   ]
  },
  {
   "cell_type": "code",
   "execution_count": null,
   "metadata": {},
   "outputs": [],
   "source": [
    "#Vergleichsoperationen\n",
    "print(\"17 >= 17: \", 17 >= 17)"
   ]
  },
  {
   "cell_type": "code",
   "execution_count": null,
   "metadata": {},
   "outputs": [],
   "source": [
    "print(\"17 > 17: \", 17 > 17)"
   ]
  },
  {
   "cell_type": "code",
   "execution_count": null,
   "metadata": {},
   "outputs": [],
   "source": [
    "print(\"13 != 17: \", 13 != 17)\n",
    "print(\"26 != 'Hallo': \",26 != \"Hallo\") #Strings in Strings darstellen\n",
    "print(\"'Hi' != 'Hi': \", \"Hi\" != \"Hi\")"
   ]
  },
  {
   "cell_type": "code",
   "execution_count": null,
   "metadata": {},
   "outputs": [],
   "source": [
    "#kommentiere hintendran jeweils, ob du glaubst, ob die Variable True oder False ist\n",
    "a = True\n",
    "b = False\n",
    "c = (17 == 24)\n",
    "d = (5 <= 78)"
   ]
  },
  {
   "cell_type": "code",
   "execution_count": null,
   "metadata": {},
   "outputs": [],
   "source": [
    "e = not c\n",
    "f = a or b\n",
    "g = a and b\n",
    "h = b or (a and not c)"
   ]
  },
  {
   "cell_type": "code",
   "execution_count": null,
   "metadata": {},
   "outputs": [],
   "source": [
    "if f:\n",
    "\tprint(\"f is True\")\n",
    "if g:\n",
    "\tprint(\"g is True\")\n",
    "else:\n",
    "\tprint(\"g is False\")"
   ]
  },
  {
   "cell_type": "code",
   "execution_count": null,
   "metadata": {},
   "outputs": [],
   "source": [
    "### Aufgabe Verkauf\n",
    "#Produkte: Wasser, Bier, Schnaps\n",
    "#Der Kunde soll eines der Produkte auswählen. Dann musst du ihn ggf nach dem Alter fragen.\n",
    "#Du kannst ihm immer Wasser, Bier ab 16 Jahren und Schnaps ab 18 Jahren verkaufen\n",
    "\n"
   ]
  },
  {
   "cell_type": "code",
   "execution_count": null,
   "metadata": {},
   "outputs": [],
   "source": [
    "#mathematische Operationen\n",
    "a = 9\n",
    "b = 12\n",
    "print(a+b)\n",
    "print(a-b)\n",
    "print(a*b)\n",
    "print(a/b)#Kommazahl\n",
    "print(12*3+5)\n",
    "print(12*(3+5))\n",
    "print(2**4)#'hoch'\n",
    "print(3**3)"
   ]
  },
  {
   "cell_type": "code",
   "execution_count": null,
   "metadata": {},
   "outputs": [],
   "source": [
    "c = a/b\n",
    "print(type(a))#int\n",
    "print(type(c))#double\n",
    "#Unterschiedlicher Datentyp\n",
    "#(gut zu wissen, aber in Python erstmal nicht so wichtig)"
   ]
  },
  {
   "cell_type": "code",
   "execution_count": null,
   "metadata": {},
   "outputs": [],
   "source": [
    "print(a//b)#floor division (immer einfach abgerundet)\n",
    "d = a//b\n",
    "print(type(d))"
   ]
  },
  {
   "cell_type": "code",
   "execution_count": null,
   "metadata": {},
   "outputs": [],
   "source": [
    "#Modulo (\"Rest\")\n",
    "print(a%b)"
   ]
  },
  {
   "cell_type": "code",
   "execution_count": null,
   "metadata": {},
   "outputs": [],
   "source": [
    "print(b%a)\n",
    "print(28 % 6)"
   ]
  },
  {
   "cell_type": "code",
   "execution_count": null,
   "metadata": {},
   "outputs": [],
   "source": [
    "#Überprüfe ob eine Zahl gerade ist\n",
    "z = int(input(\"Gib mir eine Zahl: \"))\n",
    "if z % 2 == 0:\n",
    "\tprint(z, \" ist gerade!\")\n",
    "else:\n",
    "\tprint(z, \" ist ungerade!\")"
   ]
  },
  {
   "cell_type": "code",
   "execution_count": null,
   "metadata": {},
   "outputs": [],
   "source": [
    "# Hausaufgabe: FizzBuzz\n",
    "#Spiel geht so: Man bekommt eine Zahl, wenn diese durch 3 und durch 5 teilbar ist sagt man FizzBuzz, sonst,\n",
    "#wenn sie durch 3 teilbar ist Fizz, sonst wenn sie durch 5 teilbar ist Buzz und ansonsten einfach nur die Zahl\n",
    "#Aufgabe: Programmiere FizzBuzz\n",
    "\n"
   ]
  },
  {
   "cell_type": "code",
   "execution_count": null,
   "metadata": {},
   "outputs": [],
   "source": []
  },
  {
   "cell_type": "code",
   "execution_count": null,
   "metadata": {},
   "outputs": [],
   "source": []
  },
  {
   "cell_type": "code",
   "execution_count": null,
   "metadata": {},
   "outputs": [],
   "source": []
  },
  {
   "cell_type": "code",
   "execution_count": null,
   "metadata": {},
   "outputs": [],
   "source": []
  },
  {
   "cell_type": "code",
   "execution_count": null,
   "metadata": {},
   "outputs": [],
   "source": []
  },
  {
   "cell_type": "code",
   "execution_count": null,
   "metadata": {},
   "outputs": [],
   "source": []
  }
 ],
 "metadata": {
  "kernelspec": {
   "display_name": "Python 3",
   "language": "python",
   "name": "python3"
  },
  "language_info": {
   "codemirror_mode": {
    "name": "ipython",
    "version": 3
   },
   "file_extension": ".py",
   "mimetype": "text/x-python",
   "name": "python",
   "nbconvert_exporter": "python",
   "pygments_lexer": "ipython3",
   "version": "3.8.5"
  }
 },
 "nbformat": 4,
 "nbformat_minor": 4
}