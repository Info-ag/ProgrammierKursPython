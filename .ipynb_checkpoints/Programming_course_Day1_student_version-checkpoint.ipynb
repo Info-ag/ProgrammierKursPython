{
 "cells": [
  {
   "cell_type": "code",
   "execution_count": null,
   "metadata": {},
   "outputs": [],
   "source": [
    "######################## Day 1 ##########################\n",
    "\n",
    "#Über den Programmierkurs\n",
    "\n",
    "#ihr werdet euch nicht an jedes Detail erinnern, das ist aber normal. Ihr könnt das Script auch benutzen,\n",
    "#um Dinge nachzuschlagen, aber das wichtige hier ist die Übung und dass ihr Grundwissen habt.\n",
    "#Sucht im Internet, wenn ihr nicht wisst, wie etwas funktioniert, das gehört zum Programmieren dazu.\n",
    "#wichtig ist, dass ihr weiter übt, sonst vergesst ihr vieles wieder schnell.\n",
    "#Es gibt auch noch viel mehr als wir in diesem Kurs behandeln können, wir hoffen ihr macht danach selbstständig weiter.\n",
    "#Programmieren lernt man durch programmieren, nicht durch Tutorials anschauen.\n",
    "#Bla Bla Bla\n",
    "\n",
    "#Die Aufgaben sind das wichtigste, ihr solltet versuchen sie alleine zu machen (oder maximal in zweier Teams, aber schaut, dass dann nicht einer alles alleine macht).\n",
    "#Wenn ihr etwas nicht verstanden habt, meldet euch direkt.\n",
    "#Wenn ihr eine Aufgabe nicht lösen könnt, fragt uns, wir helfen euch, versucht es aber unbedingt erst einmal selbst.\n"
   ]
  },
  {
   "cell_type": "code",
   "execution_count": null,
   "metadata": {},
   "outputs": [],
   "source": [
    "# Einführung\n",
    "## print\n",
    "print(\"Hallo!\")\n"
   ]
  },
  {
   "cell_type": "code",
   "execution_count": null,
   "metadata": {},
   "outputs": [],
   "source": [
    "### Aufgabe\n",
    "#schreibe \"Hallo Welt\" aus\n"
   ]
  },
  {
   "cell_type": "code",
   "execution_count": null,
   "metadata": {},
   "outputs": [],
   "source": [
    "## variablen\n",
    "### generell Variablen\n",
    "name = \"\"\n",
    "print(name)"
   ]
  },
  {
   "cell_type": "code",
   "execution_count": null,
   "metadata": {},
   "outputs": [],
   "source": [
    "plz = \".....\"\n",
    "ort = \"\"\n",
    "print(ort)\n",
    "ort_mit_plz = \"\"#abschreiben\n",
    "print(ort_mit_plz)"
   ]
  },
  {
   "cell_type": "code",
   "execution_count": null,
   "metadata": {},
   "outputs": [],
   "source": [
    "print(\"Mein Name ist \" + name)"
   ]
  },
  {
   "cell_type": "code",
   "execution_count": null,
   "metadata": {},
   "outputs": [],
   "source": [
    "#### Aufgabe\n",
    "#schreibe in einer Zeile aus wie du heißt und woher du kommst mit den Variablen name und ort\n",
    "print(\"Mein Name ist \" + name + \" und ich komme aus \" + ort + \".\")"
   ]
  },
  {
   "cell_type": "code",
   "execution_count": null,
   "metadata": {},
   "outputs": [],
   "source": [
    "## input + kommentare\n",
    "#name = \"Marvin\"\n",
    "#alles hinter einem # wird nicht ausgeführt\n",
    "\"\"\"\n",
    "für mehrzeilige Kommentare kann man auch die dreifachen Anführungszeichen schreiben\n",
    "Blöd ist nur, dass das dann hier beim Ausführen als String interpretiert wird.\n",
    "\"\"\""
   ]
  },
  {
   "cell_type": "code",
   "execution_count": null,
   "metadata": {},
   "outputs": [],
   "source": [
    "name = input()"
   ]
  },
  {
   "cell_type": "code",
   "execution_count": null,
   "metadata": {},
   "outputs": [],
   "source": [
    "print(\"Wie ist dein Name?\")\n",
    "name = input()\n",
    "### Aufgabe\n",
    "#schreibe \"Woher kommst du\" und dann schreibe der Variable ort den Input zu"
   ]
  },
  {
   "cell_type": "code",
   "execution_count": null,
   "metadata": {},
   "outputs": [],
   "source": [
    "antwort = input(\"Wie geht es dir?: \")\n",
    "if antwort == \"gut\":\n",
    "  print(\"Supi, mir geht es auch gut!\")\n",
    "elif antwort == \"schlecht\":\n",
    "  print(\"Oh das tut mir leid\")\n",
    "else:\n",
    "  print(\"Ich kann dich nicht verstehen.\")"
   ]
  },
  {
   "cell_type": "code",
   "execution_count": null,
   "metadata": {},
   "outputs": [],
   "source": [
    "#Zahlen erklären\n",
    "stunden_programmiert = 3000 #Variable (klein geschrieben)\n",
    "Antwort_auf_alles = 42 #Konstante (groß geschrieben)\n",
    "PI = 3.14159"
   ]
  },
  {
   "cell_type": "code",
   "execution_count": null,
   "metadata": {},
   "outputs": [],
   "source": [
    "alter = int(input(\"Wie alt bist du?: \")) #weil input einen String zurückgibt, muss man das zu einem Integer konvertieren"
   ]
  },
  {
   "cell_type": "code",
   "execution_count": null,
   "metadata": {},
   "outputs": [],
   "source": [
    "#Mit Zahlen kann man Rechnungen durchführen\n",
    "meinalter = 17\n",
    "alter = int(input(\"Wie alt bist du? \"))\n",
    "\n",
    "if meinalter == alter:\n",
    "\tprint(\"Lustig, ich auch\")\n",
    "elif meinalter > alter:\n",
    "\tprint(\"Dann bin ich \", meinalter - alter, \" Jahre älter als du.\")\n",
    "else:\n",
    "\tprint(\"Dann bist du \", alter - meinalter, \" Jahre älter als ich\")"
   ]
  },
  {
   "cell_type": "code",
   "execution_count": null,
   "metadata": {},
   "outputs": [],
   "source": [
    "#Vergleichsoperationen\n",
    "print(\"17 >= 17: \", 17 >= 17)"
   ]
  },
  {
   "cell_type": "code",
   "execution_count": null,
   "metadata": {},
   "outputs": [],
   "source": [
    "print(\"17 > 17: \", 17 > 17)"
   ]
  },
  {
   "cell_type": "code",
   "execution_count": null,
   "metadata": {},
   "outputs": [],
   "source": [
    "print(\"13 != 17: \", 13 != 17)\n",
    "print(\"26 != 'Hallo': \",26 != \"Hallo\") #Strings in Strings darstellen\n",
    "print(\"'Hi' != 'Hi': \", \"Hi\" != \"Hi\")"
   ]
  },
  {
   "cell_type": "code",
   "execution_count": null,
   "metadata": {},
   "outputs": [],
   "source": [
    "#kommentiere hintendran jeweils, ob du glaubst, ob die Variable True oder False ist\n",
    "a = True\n",
    "b = False\n",
    "c = (17 == 24)\n",
    "d = (5 <= 78)"
   ]
  },
  {
   "cell_type": "code",
   "execution_count": null,
   "metadata": {},
   "outputs": [],
   "source": [
    "e = not c\n",
    "f = a or b\n",
    "g = a and b\n",
    "h = b or (a and not c)"
   ]
  },
  {
   "cell_type": "code",
   "execution_count": null,
   "metadata": {},
   "outputs": [],
   "source": [
    "if f:\n",
    "\tprint(\"f is True\")\n",
    "if g:\n",
    "\tprint(\"g is True\")\n",
    "else:\n",
    "\tprint(\"g is False\")"
   ]
  },
  {
   "cell_type": "code",
   "execution_count": null,
   "metadata": {},
   "outputs": [],
   "source": [
    "### Aufgabe Verkauf\n",
    "#Produkte: Wasser, Bier, Schnaps\n",
    "#Der Kunde soll eines der Produkte auswählen. Dann musst du ihn ggf nach dem Alter fragen.\n",
    "#Du kannst ihm immer Wasser, Bier ab 16 Jahren und Schnaps ab 18 Jahren verkaufen\n",
    "\n"
   ]
  },
  {
   "cell_type": "code",
   "execution_count": null,
   "metadata": {},
   "outputs": [],
   "source": [
    "#mathematische Operationen\n",
    "a = 9\n",
    "b = 12\n",
    "print(a+b)\n",
    "print(a-b)\n",
    "print(a*b)\n",
    "print(a/b)#Kommazahl\n",
    "print(12*3+5)\n",
    "print(12*(3+5))\n",
    "print(2**4)#'hoch'\n",
    "print(3**3)"
   ]
  },
  {
   "cell_type": "code",
   "execution_count": null,
   "metadata": {},
   "outputs": [],
   "source": [
    "c = a/b\n",
    "print(type(a))#int\n",
    "print(type(c))#double\n",
    "#Unterschiedlicher Datentyp\n",
    "#(gut zu wissen, aber in Python erstmal nicht so wichtig)"
   ]
  },
  {
   "cell_type": "code",
   "execution_count": null,
   "metadata": {},
   "outputs": [],
   "source": [
    "print(a//b)#floor division (immer einfach abgerundet)\n",
    "d = a//b\n",
    "print(type(d))"
   ]
  },
  {
   "cell_type": "code",
   "execution_count": null,
   "metadata": {},
   "outputs": [],
   "source": [
    "#Modulo (\"Rest\")\n",
    "print(a%b)"
   ]
  },
  {
   "cell_type": "code",
   "execution_count": null,
   "metadata": {},
   "outputs": [],
   "source": [
    "print(b%a)\n",
    "print(28 % 6)"
   ]
  },
  {
   "cell_type": "code",
   "execution_count": null,
   "metadata": {},
   "outputs": [],
   "source": [
    "#Überprüfe ob eine Zahl gerade ist\n",
    "z = int(input(\"Gib mir eine Zahl: \"))\n",
    "if z % 2 == 0:\n",
    "\tprint(z, \" ist gerade!\")\n",
    "else:\n",
    "\tprint(z, \" ist ungerade!\")"
   ]
  },
  {
   "cell_type": "code",
   "execution_count": null,
   "metadata": {},
   "outputs": [],
   "source": [
    "# Hausaufgabe: FizzBuzz\n",
    "#Spiel geht so: Man bekommt eine Zahl, wenn diese durch 3 und durch 5 teilbar ist sagt man FizzBuzz, sonst,\n",
    "#wenn sie durch 3 teilbar ist Fizz, sonst wenn sie durch 5 teilbar ist Buzz und ansonsten einfach nur die Zahl\n",
    "#Aufgabe: Programmiere FizzBuzz\n",
    "\n"
   ]
  },
  {
   "cell_type": "code",
   "execution_count": null,
   "metadata": {},
   "outputs": [],
   "source": []
  },
  {
   "cell_type": "code",
   "execution_count": null,
   "metadata": {},
   "outputs": [],
   "source": []
  },
  {
   "cell_type": "code",
   "execution_count": null,
   "metadata": {},
   "outputs": [],
   "source": []
  },
  {
   "cell_type": "code",
   "execution_count": null,
   "metadata": {},
   "outputs": [],
   "source": []
  },
  {
   "cell_type": "code",
   "execution_count": null,
   "metadata": {},
   "outputs": [],
   "source": []
  },
  {
   "cell_type": "code",
   "execution_count": null,
   "metadata": {},
   "outputs": [],
   "source": []
  }
 ],
 "metadata": {
  "kernelspec": {
   "display_name": "Python 3",
   "language": "python",
   "name": "python3"
  },
  "language_info": {
   "codemirror_mode": {
    "name": "ipython",
    "version": 3
   },
   "file_extension": ".py",
   "mimetype": "text/x-python",
   "name": "python",
   "nbconvert_exporter": "python",
   "pygments_lexer": "ipython3",
   "version": "3.8.5"
  }
 },
 "nbformat": 4,
 "nbformat_minor": 4
}
