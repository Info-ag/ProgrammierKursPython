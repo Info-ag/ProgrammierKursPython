{
 "cells": [
  {
   "cell_type": "code",
   "execution_count": null,
   "metadata": {},
   "outputs": [],
   "source": [
    "##################### Day 2 ##############################################\n",
    "\n",
    "#Besprechung Hausaufgabe (auch gut als Wiederholung um wieder rein zu kommen)"
   ]
  },
  {
   "cell_type": "code",
   "execution_count": null,
   "metadata": {},
   "outputs": [],
   "source": [
    "## Schleifen\n",
    "\n",
    "# while\n",
    "\n",
    "#niemals Endlosschleifen ausführen\n",
    "#while True:#gefahr, dass das Programm oder der PC abstürtzt\n",
    "#\tprint(\"Endlosschleifen sind böse!\")"
   ]
  },
  {
   "cell_type": "code",
   "execution_count": 1,
   "metadata": {},
   "outputs": [
    {
     "name": "stdout",
     "output_type": "stream",
     "text": [
      "Bis zu welcher Zahl möchtest du zählen? 20\n",
      "1\n",
      "2\n",
      "3\n",
      "4\n",
      "5\n",
      "6\n",
      "7\n",
      "8\n",
      "9\n",
      "10\n",
      "11\n",
      "12\n",
      "13\n",
      "14\n",
      "15\n",
      "16\n",
      "17\n",
      "18\n",
      "19\n",
      "20\n"
     ]
    }
   ],
   "source": [
    "a = 1\n",
    "maximum = int(input(\"Bis zu welcher Zahl möchtest du zählen? \"))\n",
    "while a <= maximum:\n",
    "\tprint(a)\n",
    "\ta += 1 # ist das gleiche wie a = a+1"
   ]
  },
  {
   "cell_type": "code",
   "execution_count": 2,
   "metadata": {},
   "outputs": [
    {
     "name": "stdout",
     "output_type": "stream",
     "text": [
      "Muss ich noch mal Hallo sagen? (y/n) y\n",
      "Hallo\n",
      "Muss ich noch mal Hallo sagen? (y/n) y\n",
      "Hallo\n",
      "Muss ich noch mal Hallo sagen? (y/n) y\n",
      "Hallo\n",
      "Muss ich noch mal Hallo sagen? (y/n) y\n",
      "Hallo\n",
      "Muss ich noch mal Hallo sagen? (y/n) y\n",
      "Hallo\n",
      "Muss ich noch mal Hallo sagen? (y/n) y\n",
      "Hallo\n",
      "Muss ich noch mal Hallo sagen? (y/n) n\n"
     ]
    }
   ],
   "source": [
    "while input(\"Muss ich noch mal Hallo sagen? (y/n) \") == \"y\":\n",
    "\tprint(\"Hallo\")"
   ]
  },
  {
   "cell_type": "code",
   "execution_count": 3,
   "metadata": {},
   "outputs": [
    {
     "name": "stdout",
     "output_type": "stream",
     "text": [
      "0\n",
      "1\n",
      "2\n",
      "3\n",
      "4\n",
      "5\n",
      "6\n",
      "7\n",
      "8\n",
      "9\n",
      "10\n",
      "11\n",
      "12\n"
     ]
    }
   ],
   "source": [
    "for i in range(13):#von 0 bis 12\n",
    "\tprint(i)"
   ]
  },
  {
   "cell_type": "code",
   "execution_count": 4,
   "metadata": {},
   "outputs": [
    {
     "name": "stdout",
     "output_type": "stream",
     "text": [
      "2\n",
      "3\n",
      "4\n",
      "5\n",
      "6\n",
      "7\n",
      "8\n",
      "9\n",
      "10\n",
      "11\n",
      "12\n",
      "13\n",
      "14\n"
     ]
    }
   ],
   "source": [
    "for i in range(2,15): #von 2 bis 14\n",
    "\tprint(i)"
   ]
  },
  {
   "cell_type": "code",
   "execution_count": 5,
   "metadata": {},
   "outputs": [
    {
     "name": "stdout",
     "output_type": "stream",
     "text": [
      "3\n",
      "6\n",
      "9\n",
      "12\n",
      "15\n",
      "18\n",
      "21\n",
      "24\n",
      "27\n",
      "30\n",
      "33\n"
     ]
    }
   ],
   "source": [
    "for i in range(3,36,3): #von drei an jede dritte Zahl, die kleiner als 36 ist\n",
    "\tprint(i)"
   ]
  },
  {
   "cell_type": "code",
   "execution_count": null,
   "metadata": {},
   "outputs": [],
   "source": [
    "#Listen\n",
    "\n",
    "list1 = [1,2,4,8,16]\n",
    "\n",
    "for i in list1:\n",
    "\tprint(i)"
   ]
  },
  {
   "cell_type": "code",
   "execution_count": 6,
   "metadata": {},
   "outputs": [
    {
     "name": "stdout",
     "output_type": "stream",
     "text": [
      "[0, 1, 2, 3, 4, 5, 6, 7, 8, 9, 10, 11, 12, 13, 14, 15, 16, 17, 18, 19, 20, 21, 22, 23, 24, 25, 26, 27, 28, 29, 30, 31, 32, 33, 34, 35, 36, 37, 38, 39, 40, 41, 42, 43, 44, 45, 46, 47, 48, 49, 50, 51, 52, 53, 54, 55, 56, 57, 58, 59, 60, 61, 62, 63, 64, 65, 66, 67, 68, 69, 70, 71, 72, 73, 74, 75, 76, 77, 78, 79, 80, 81, 82, 83, 84, 85, 86, 87, 88, 89, 90, 91, 92, 93, 94, 95, 96, 97, 98, 99, 100, 101, 102, 103, 104, 105, 106, 107, 108, 109, 110, 111, 112, 113, 114, 115, 116, 117, 118, 119, 120, 121, 122, 123, 124, 125, 126, 127, 128, 129, 130, 131, 132, 133, 134, 135, 136, 137, 138, 139, 140, 141, 142, 143, 144, 145, 146, 147, 148, 149, 150, 151, 152, 153, 154, 155, 156, 157, 158, 159, 160, 161, 162, 163, 164, 165, 166, 167, 168, 169, 170, 171, 172, 173, 174, 175, 176, 177, 178, 179, 180, 181, 182, 183, 184, 185, 186, 187, 188, 189, 190, 191, 192, 193, 194, 195, 196, 197, 198, 199]\n"
     ]
    }
   ],
   "source": [
    "list2 = []\n",
    "for i in range(200):\n",
    "\tlist2.append(i)\n",
    "print(list2)"
   ]
  },
  {
   "cell_type": "code",
   "execution_count": null,
   "metadata": {},
   "outputs": [],
   "source": [
    "##Aufgabe\n",
    "#Liste mit allen Zweierpotenzen von 1 bis 2^20\n",
    "\n"
   ]
  },
  {
   "cell_type": "code",
   "execution_count": 7,
   "metadata": {},
   "outputs": [
    {
     "name": "stdout",
     "output_type": "stream",
     "text": [
      "Leute im Programmierkurs sind: \n",
      "- Marvin\n",
      "- Simon\n",
      "- ...\n"
     ]
    }
   ],
   "source": [
    "namen = [\"Marvin\", \"Simon\", \"...\"]\n",
    "print(\"Leute im Programmierkurs sind: \")\n",
    "for name in namen:\n",
    "\tprint(\"-\", name)\n"
   ]
  },
  {
   "cell_type": "code",
   "execution_count": 9,
   "metadata": {},
   "outputs": [
    {
     "name": "stdout",
     "output_type": "stream",
     "text": [
      "10\n",
      "-70\n"
     ]
    }
   ],
   "source": [
    "#Indexe\n",
    "\n",
    "#Indexe beginnen immer mit 0\n",
    "\n",
    "list3 = [10,20,30,-70,50,60]\n",
    "print(list3[0])#erstes Element in der Liste\n",
    "print(list3[3])#viertes Element"
   ]
  },
  {
   "cell_type": "code",
   "execution_count": 10,
   "metadata": {},
   "outputs": [
    {
     "name": "stdout",
     "output_type": "stream",
     "text": [
      "l\n"
     ]
    }
   ],
   "source": [
    "#geht auch mit Strings\n",
    "alph = \"abcdefghijklmnopqrstuvwxyz\"\n",
    "print(alph[11])#12ter Buchstabe im Alphabet\n"
   ]
  },
  {
   "cell_type": "code",
   "execution_count": 11,
   "metadata": {},
   "outputs": [
    {
     "name": "stdout",
     "output_type": "stream",
     "text": [
      "5\n",
      "8\n",
      "13\n",
      "21\n",
      "34\n"
     ]
    }
   ],
   "source": [
    "#Aufgabe\n",
    "#gebe alle Elemente vom 5. bis zum 9. der Liste list4 aus\n",
    "list4 = [1,1,2,3,5,8,13,21,34,55,89,144]\n",
    "for i in range(4,9):\n",
    "    print(list4[i])"
   ]
  },
  {
   "cell_type": "code",
   "execution_count": 12,
   "metadata": {},
   "outputs": [
    {
     "name": "stdout",
     "output_type": "stream",
     "text": [
      "Der letzte Buchstabe ist:  z\n",
      "Der vorletzte Buchstabe ist:  y\n"
     ]
    }
   ],
   "source": [
    "#'von hinten':\n",
    "print(\"Der letzte Buchstabe ist: \", alph[-1])\n",
    "print(\"Der vorletzte Buchstabe ist: \", alph[-2])"
   ]
  },
  {
   "cell_type": "code",
   "execution_count": 13,
   "metadata": {},
   "outputs": [
    {
     "name": "stdout",
     "output_type": "stream",
     "text": [
      "12\n",
      "Das Element bei Index  0  ist:  1\n",
      "Das Element bei Index  1  ist:  1\n",
      "Das Element bei Index  2  ist:  2\n",
      "Das Element bei Index  3  ist:  3\n",
      "Das Element bei Index  4  ist:  5\n",
      "Das Element bei Index  5  ist:  8\n",
      "Das Element bei Index  6  ist:  13\n",
      "Das Element bei Index  7  ist:  21\n",
      "Das Element bei Index  8  ist:  34\n",
      "Das Element bei Index  9  ist:  55\n",
      "Das Element bei Index  10  ist:  89\n",
      "Das Element bei Index  11  ist:  144\n"
     ]
    }
   ],
   "source": [
    "#len() gibt die Länge einer Liste zurück\n",
    "print(len(list4))\n",
    "for i in range(len(list4)):\n",
    "\tprint(\"Das Element bei Index \", i, \" ist: \", list4[i])"
   ]
  },
  {
   "cell_type": "code",
   "execution_count": 18,
   "metadata": {},
   "outputs": [
    {
     "name": "stdout",
     "output_type": "stream",
     "text": [
      "zyxwvutsrqponmlkjihgfedcba\n"
     ]
    }
   ],
   "source": [
    "#Aufgabe\n",
    "#erstelle einen String der das Alphabet rückwärts beinhaltet, indem du den String alph nutzt\n",
    "rev_alph = \"\"\n",
    "for i in range(1,len(alph)+1):\n",
    "    rev_alph = rev_alph + alph[-i]\n",
    "print(rev_alph)"
   ]
  },
  {
   "cell_type": "code",
   "execution_count": 19,
   "metadata": {},
   "outputs": [
    {
     "name": "stdout",
     "output_type": "stream",
     "text": [
      "[3, 6, 8, 2, 13, 67, 24]\n",
      "[3, 6, 8, 2, 13, 24]\n",
      "[3, 6, 2, 13, 24]\n",
      "[3, 13, 24]\n"
     ]
    }
   ],
   "source": [
    "#wie man Zeug aus Listen löscht\n",
    "list6 = [3,6,8,2,13,67,24]\n",
    "print(list6)\n",
    "list6.pop(-2)#remove by index\n",
    "print(list6)\n",
    "list6.remove(8)#remove by item\n",
    "print(list6)\n",
    "del list6[1:3]#remove by slice\n",
    "print(list6)"
   ]
  },
  {
   "cell_type": "code",
   "execution_count": null,
   "metadata": {},
   "outputs": [],
   "source": []
  },
  {
   "cell_type": "code",
   "execution_count": 20,
   "metadata": {},
   "outputs": [
    {
     "name": "stdout",
     "output_type": "stream",
     "text": [
      "2\n"
     ]
    }
   ],
   "source": [
    "#umgekehrt auf den Index kommen mit index()\n",
    "list3 = [10,20,30,40,50,60]\n",
    "print(list3.index(30))"
   ]
  },
  {
   "cell_type": "code",
   "execution_count": 22,
   "metadata": {},
   "outputs": [
    {
     "name": "stdout",
     "output_type": "stream",
     "text": [
      "11\n"
     ]
    }
   ],
   "source": [
    "#es gilt a == list[list.index(a)]\n",
    "\n",
    "print(alph.index(\"l\"))#gibt index von l in alph zurück"
   ]
  },
  {
   "cell_type": "code",
   "execution_count": 24,
   "metadata": {},
   "outputs": [
    {
     "name": "stdout",
     "output_type": "stream",
     "text": [
      "[10, 20, 30]\n",
      "[40, 50, 60]\n",
      "[30, 40]\n",
      "[10, 30, 50]\n"
     ]
    }
   ],
   "source": [
    "#slices\n",
    "\n",
    "first_half_list3 = list3[:3]#mit Indexen 0,1,2\n",
    "second_half_list3 = list3[3:]#mit Indexen 3,4,5\n",
    "middle_of_list3 = list3[2:4]#mit Indexen 2,3\n",
    "\n",
    "#mit Schrittweite\n",
    "every_second_of_list3 = list3[::2]\n",
    "\n",
    "#Wie sonst auch (ähnlich wie bei range()), gibt list[minimum:maximum] alle Elemente von Index minimum bis maximum-1 zurück\n",
    "print(first_half_list3)\n",
    "print(second_half_list3)\n",
    "print(middle_of_list3)\n",
    "print(every_second_of_list3)"
   ]
  },
  {
   "cell_type": "code",
   "execution_count": 25,
   "metadata": {},
   "outputs": [
    {
     "data": {
      "text/plain": [
       "'nopqrstuvwxyzabcdefghijklm'"
      ]
     },
     "execution_count": 25,
     "metadata": {},
     "output_type": "execute_result"
    }
   ],
   "source": [
    "#Aufgabe\n",
    "#erstelle einen String wo zunächst die hintere Hälfte des Alphabets vorkommt und dann die vordere Hälfte.\n",
    "x = 13\n",
    "alph[x:] + alph[:x] "
   ]
  },
  {
   "cell_type": "code",
   "execution_count": null,
   "metadata": {},
   "outputs": [],
   "source": [
    "#Hausaufgabe 1\n",
    "#schreibe ein Programm, das checkt, ob ein eingabestring ein Palindrom ist, bzw. ob er vorwärts und rückwärts gleich ist.\n",
    "#ABBA und LAGERREGAL sind beispielsweise Palindrome.\n",
    "\n"
   ]
  },
  {
   "cell_type": "code",
   "execution_count": null,
   "metadata": {},
   "outputs": [],
   "source": [
    "#Hausaufgabe 2 (relativ schwer)\n",
    "#Schreibe ein Programm, das die Quersumme einer Zahl ausspuckt.\n",
    "zahl = int(input(\"Gebe hier deine Zahl ein: \"))#das int() soll da bleiben\n",
    "\n",
    "#Es gibt im wesentlichen zwei Lösungen\n",
    "#entweder mit Modulo und Floor Division\n",
    "#oder anders, wofür die str() Funktion (die ihr Googlen könnt) sinnvoll sein könnte\n",
    "\n"
   ]
  },
  {
   "cell_type": "code",
   "execution_count": 28,
   "metadata": {},
   "outputs": [
    {
     "name": "stdout",
     "output_type": "stream",
     "text": [
      "LAGERREGAL\n",
      "True\n"
     ]
    }
   ],
   "source": [
    "word = input()\n",
    "rev_word = \"\"\n",
    "for i in range(1,len(word)+1):\n",
    "    rev_word = rev_word + word[-i]\n",
    "\n",
    "if rev_word == word:\n",
    "    print(\"True\")\n",
    "else:\n",
    "    print(\"False\")"
   ]
  },
  {
   "cell_type": "code",
   "execution_count": null,
   "metadata": {},
   "outputs": [],
   "source": []
  }
 ],
 "metadata": {
  "kernelspec": {
   "display_name": "Python 3",
   "language": "python",
   "name": "python3"
  },
  "language_info": {
   "codemirror_mode": {
    "name": "ipython",
    "version": 3
   },
   "file_extension": ".py",
   "mimetype": "text/x-python",
   "name": "python",
   "nbconvert_exporter": "python",
   "pygments_lexer": "ipython3",
   "version": "3.7.3"
  }
 },
 "nbformat": 4,
 "nbformat_minor": 4
}
